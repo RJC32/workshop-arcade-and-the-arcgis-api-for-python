{
 "cells": [
  {
   "cell_type": "code",
   "execution_count": 1,
   "metadata": {},
   "outputs": [
    {
     "name": "stdout",
     "output_type": "stream",
     "text": [
      "Logged in as rjc_workshop to Eagle Technology\n"
     ]
    }
   ],
   "source": [
    "from arcgis.gis import GIS\n",
    "\n",
    "# connect to GIS through a profile\n",
    "gis = GIS(profile='Workshop')\n",
    "print(\"Logged in as \" + gis.properties.user.username + \" to \" + gis.properties.name)"
   ]
  },
  {
   "cell_type": "code",
   "execution_count": 7,
   "metadata": {},
   "outputs": [
    {
     "data": {
      "text/html": [
       "<div class=\"item_container\" style=\"height: auto; overflow: hidden; border: 1px solid #cfcfcf; border-radius: 2px; background: #f6fafa; line-height: 1.21429em; padding: 10px;\">\n",
       "                    <div class=\"item_left\" style=\"width: 210px; float: left;\">\n",
       "                       <a href='https://eagle-workshops.maps.arcgis.com/home/item.html?id=175d7c6a18d545418a5887d49dc572b0' target='_blank'>\n",
       "                        <img src='data:image/png;base64,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' width='200' height='133' class=\"itemThumbnail\">\n",
       "                       </a>\n",
       "                    </div>\n",
       "\n",
       "                    <div class=\"item_right\"     style=\"float: none; width: auto; overflow: hidden;\">\n",
       "                        <a href='https://eagle-workshops.maps.arcgis.com/home/item.html?id=175d7c6a18d545418a5887d49dc572b0' target='_blank'><b>Wellington City Sculptures</b>\n",
       "                        </a>\n",
       "                        <br/>Points showing the location of sculptures around Wellington<img src='https://eagle-workshops.maps.arcgis.com/home/js/jsapi/esri/css/images/item_type_icons/featureshosted16.png' style=\"vertical-align:middle;\">Feature Layer Collection by WellingtonCityCouncil\n",
       "                        <br/>Last Modified: June 22, 2018\n",
       "                        <br/>0 comments, 63 views\n",
       "                    </div>\n",
       "                </div>\n",
       "                "
      ],
      "text/plain": [
       "<Item title:\"Wellington City Sculptures\" type:Feature Layer Collection owner:WellingtonCityCouncil>"
      ]
     },
     "execution_count": 7,
     "metadata": {},
     "output_type": "execute_result"
    }
   ],
   "source": [
    "# Item Added From Toolbar\n",
    "# Title: Patrol Information RJC | Type: Feature Service | Owner: ryan_cooper@eagle.co.nz\n",
    "item = gis.content.get(\"175d7c6a18d545418a5887d49dc572b0\")\n",
    "item"
   ]
  },
  {
   "cell_type": "code",
   "execution_count": 6,
   "metadata": {},
   "outputs": [
    {
     "ename": "AttributeError",
     "evalue": "'PropertyMap' instance has no attribute 'layers'",
     "output_type": "error",
     "traceback": [
      "\u001b[1;31m---------------------------------------------------------------------------\u001b[0m",
      "\u001b[1;31mAttributeError\u001b[0m                            Traceback (most recent call last)",
      "\u001b[1;32m<ipython-input-6-55e93c803cb4>\u001b[0m in \u001b[0;36m<module>\u001b[1;34m\u001b[0m\n\u001b[0;32m      1\u001b[0m \u001b[1;31m# this function will clone the item we defined above\u001b[0m\u001b[1;33m\u001b[0m\u001b[1;33m\u001b[0m\u001b[1;33m\u001b[0m\u001b[0m\n\u001b[1;32m----> 2\u001b[1;33m \u001b[0mmyClone\u001b[0m \u001b[1;33m=\u001b[0m \u001b[0mgis\u001b[0m\u001b[1;33m.\u001b[0m\u001b[0mcontent\u001b[0m\u001b[1;33m.\u001b[0m\u001b[0mclone_items\u001b[0m\u001b[1;33m(\u001b[0m\u001b[1;33m[\u001b[0m\u001b[0mitem\u001b[0m\u001b[1;33m]\u001b[0m\u001b[1;33m)\u001b[0m\u001b[1;33m\u001b[0m\u001b[1;33m\u001b[0m\u001b[0m\n\u001b[0m\u001b[0;32m      3\u001b[0m \u001b[1;33m\u001b[0m\u001b[0m\n\u001b[0;32m      4\u001b[0m \u001b[1;31m# rename the dataset\u001b[0m\u001b[1;33m\u001b[0m\u001b[1;33m\u001b[0m\u001b[1;33m\u001b[0m\u001b[0m\n\u001b[0;32m      5\u001b[0m \u001b[0mmyClone\u001b[0m\u001b[1;33m[\u001b[0m\u001b[1;36m0\u001b[0m\u001b[1;33m]\u001b[0m\u001b[1;33m.\u001b[0m\u001b[0mupdate\u001b[0m\u001b[1;33m(\u001b[0m\u001b[0mitem_properties\u001b[0m\u001b[1;33m=\u001b[0m\u001b[1;33m{\u001b[0m\u001b[1;34m'title'\u001b[0m\u001b[1;33m:\u001b[0m\u001b[1;34m'Wastewater'\u001b[0m\u001b[1;33m}\u001b[0m\u001b[1;33m)\u001b[0m\u001b[1;33m\u001b[0m\u001b[1;33m\u001b[0m\u001b[0m\n",
      "\u001b[1;32m~\\AppData\\Local\\ESRI\\conda\\envs\\my_env\\lib\\site-packages\\arcgis\\gis\\__init__.py\u001b[0m in \u001b[0;36mclone_items\u001b[1;34m(self, items, folder, item_extent, use_org_basemap, copy_data, search_existing_items, item_mapping, group_mapping, owner)\u001b[0m\n\u001b[0;32m   4177\u001b[0m         \u001b[1;32mif\u001b[0m \u001b[0misinstance\u001b[0m\u001b[1;33m(\u001b[0m\u001b[0mowner\u001b[0m\u001b[1;33m,\u001b[0m \u001b[0mUser\u001b[0m\u001b[1;33m)\u001b[0m\u001b[1;33m:\u001b[0m\u001b[1;33m\u001b[0m\u001b[1;33m\u001b[0m\u001b[0m\n\u001b[0;32m   4178\u001b[0m             \u001b[0mowner_name\u001b[0m \u001b[1;33m=\u001b[0m \u001b[0mowner\u001b[0m\u001b[1;33m.\u001b[0m\u001b[0musername\u001b[0m\u001b[1;33m\u001b[0m\u001b[1;33m\u001b[0m\u001b[0m\n\u001b[1;32m-> 4179\u001b[1;33m         \u001b[0mdeep_cloner\u001b[0m \u001b[1;33m=\u001b[0m \u001b[0mclone\u001b[0m\u001b[1;33m.\u001b[0m\u001b[0m_DeepCloner\u001b[0m\u001b[1;33m(\u001b[0m\u001b[0mself\u001b[0m\u001b[1;33m.\u001b[0m\u001b[0m_gis\u001b[0m\u001b[1;33m,\u001b[0m \u001b[0mitems\u001b[0m\u001b[1;33m,\u001b[0m \u001b[0mfolder\u001b[0m\u001b[1;33m,\u001b[0m \u001b[0mwgs84_extent\u001b[0m\u001b[1;33m,\u001b[0m \u001b[0mservice_extent\u001b[0m\u001b[1;33m,\u001b[0m \u001b[0muse_org_basemap\u001b[0m\u001b[1;33m,\u001b[0m \u001b[0mcopy_data\u001b[0m\u001b[1;33m,\u001b[0m \u001b[0msearch_existing_items\u001b[0m\u001b[1;33m,\u001b[0m \u001b[0mitem_mapping\u001b[0m\u001b[1;33m,\u001b[0m \u001b[0mgroup_mapping\u001b[0m\u001b[1;33m,\u001b[0m \u001b[0mowner_name\u001b[0m\u001b[1;33m)\u001b[0m\u001b[1;33m\u001b[0m\u001b[1;33m\u001b[0m\u001b[0m\n\u001b[0m\u001b[0;32m   4180\u001b[0m         \u001b[1;32mreturn\u001b[0m \u001b[0mdeep_cloner\u001b[0m\u001b[1;33m.\u001b[0m\u001b[0mclone\u001b[0m\u001b[1;33m(\u001b[0m\u001b[1;33m)\u001b[0m\u001b[1;33m\u001b[0m\u001b[1;33m\u001b[0m\u001b[0m\n\u001b[0;32m   4181\u001b[0m \u001b[1;33m\u001b[0m\u001b[0m\n",
      "\u001b[1;32m~\\AppData\\Local\\ESRI\\conda\\envs\\my_env\\lib\\site-packages\\arcgis\\_impl\\common\\_clone.py\u001b[0m in \u001b[0;36m__init__\u001b[1;34m(self, target, items, folder, item_extent, service_extent, use_org_basemap, copy_data, search_existing_items, item_mapping, group_mapping, owner)\u001b[0m\n\u001b[0;32m     51\u001b[0m         \u001b[0mself\u001b[0m\u001b[1;33m.\u001b[0m\u001b[0m_temp_dir\u001b[0m \u001b[1;33m=\u001b[0m \u001b[0mtempfile\u001b[0m\u001b[1;33m.\u001b[0m\u001b[0mTemporaryDirectory\u001b[0m\u001b[1;33m(\u001b[0m\u001b[1;33m)\u001b[0m\u001b[1;33m\u001b[0m\u001b[1;33m\u001b[0m\u001b[0m\n\u001b[0;32m     52\u001b[0m         \u001b[1;31m# parse the config and get values\u001b[0m\u001b[1;33m\u001b[0m\u001b[1;33m\u001b[0m\u001b[1;33m\u001b[0m\u001b[0m\n\u001b[1;32m---> 53\u001b[1;33m         \u001b[0mself\u001b[0m\u001b[1;33m.\u001b[0m\u001b[0m_create_graph\u001b[0m\u001b[1;33m(\u001b[0m\u001b[1;33m)\u001b[0m\u001b[1;33m\u001b[0m\u001b[1;33m\u001b[0m\u001b[0m\n\u001b[0m\u001b[0;32m     54\u001b[0m         \u001b[0mself\u001b[0m\u001b[1;33m.\u001b[0m\u001b[0m_cloned_items\u001b[0m \u001b[1;33m=\u001b[0m \u001b[1;33m[\u001b[0m\u001b[1;33m]\u001b[0m\u001b[1;33m\u001b[0m\u001b[1;33m\u001b[0m\u001b[0m\n\u001b[0;32m     55\u001b[0m \u001b[1;33m\u001b[0m\u001b[0m\n",
      "\u001b[1;32m~\\AppData\\Local\\ESRI\\conda\\envs\\my_env\\lib\\site-packages\\arcgis\\_impl\\common\\_clone.py\u001b[0m in \u001b[0;36m_create_graph\u001b[1;34m(self)\u001b[0m\n\u001b[0;32m     63\u001b[0m             \u001b[0muser\u001b[0m \u001b[1;33m=\u001b[0m \u001b[0mself\u001b[0m\u001b[1;33m.\u001b[0m\u001b[0mtarget\u001b[0m\u001b[1;33m.\u001b[0m\u001b[0musers\u001b[0m\u001b[1;33m.\u001b[0m\u001b[0mme\u001b[0m\u001b[1;33m\u001b[0m\u001b[1;33m\u001b[0m\u001b[0m\n\u001b[0;32m     64\u001b[0m             \u001b[1;31m# Get the definitions associated with the item\u001b[0m\u001b[1;33m\u001b[0m\u001b[1;33m\u001b[0m\u001b[1;33m\u001b[0m\u001b[0m\n\u001b[1;32m---> 65\u001b[1;33m             \u001b[0mself\u001b[0m\u001b[1;33m.\u001b[0m\u001b[0m_get_item_definitions\u001b[0m\u001b[1;33m(\u001b[0m\u001b[0mitem\u001b[0m\u001b[1;33m)\u001b[0m\u001b[1;33m\u001b[0m\u001b[1;33m\u001b[0m\u001b[0m\n\u001b[0m\u001b[0;32m     66\u001b[0m \u001b[1;33m\u001b[0m\u001b[0m\n\u001b[0;32m     67\u001b[0m             \u001b[1;31m# Test if the user has the correct privileges to create the items requested\u001b[0m\u001b[1;33m\u001b[0m\u001b[1;33m\u001b[0m\u001b[1;33m\u001b[0m\u001b[0m\n",
      "\u001b[1;32m~\\AppData\\Local\\ESRI\\conda\\envs\\my_env\\lib\\site-packages\\arcgis\\_impl\\common\\_clone.py\u001b[0m in \u001b[0;36m_get_item_definitions\u001b[1;34m(self, item)\u001b[0m\n\u001b[0;32m    283\u001b[0m         \u001b[1;31m# If the item is a feature service determine if it is a view and if it is find all it's sources\u001b[0m\u001b[1;33m\u001b[0m\u001b[1;33m\u001b[0m\u001b[1;33m\u001b[0m\u001b[0m\n\u001b[0;32m    284\u001b[0m         \u001b[1;32melif\u001b[0m \u001b[0mitem\u001b[0m\u001b[1;33m[\u001b[0m\u001b[1;34m'type'\u001b[0m\u001b[1;33m]\u001b[0m \u001b[1;33m==\u001b[0m \u001b[1;34m'Feature Service'\u001b[0m\u001b[1;33m:\u001b[0m\u001b[1;33m\u001b[0m\u001b[1;33m\u001b[0m\u001b[0m\n\u001b[1;32m--> 285\u001b[1;33m             \u001b[0msvc\u001b[0m \u001b[1;33m=\u001b[0m \u001b[0mFeatureLayerCollection\u001b[0m\u001b[1;33m.\u001b[0m\u001b[0mfromitem\u001b[0m\u001b[1;33m(\u001b[0m\u001b[0mitem\u001b[0m\u001b[1;33m)\u001b[0m\u001b[1;33m\u001b[0m\u001b[1;33m\u001b[0m\u001b[0m\n\u001b[0m\u001b[0;32m    286\u001b[0m             \u001b[0mservice_definition\u001b[0m \u001b[1;33m=\u001b[0m \u001b[0mdict\u001b[0m\u001b[1;33m(\u001b[0m\u001b[0msvc\u001b[0m\u001b[1;33m.\u001b[0m\u001b[0mproperties\u001b[0m\u001b[1;33m)\u001b[0m\u001b[1;33m\u001b[0m\u001b[1;33m\u001b[0m\u001b[0m\n\u001b[0;32m    287\u001b[0m             \u001b[0mitem_definition\u001b[0m \u001b[1;33m=\u001b[0m \u001b[1;32mNone\u001b[0m\u001b[1;33m\u001b[0m\u001b[1;33m\u001b[0m\u001b[0m\n",
      "\u001b[1;32m~\\AppData\\Local\\ESRI\\conda\\envs\\my_env\\lib\\site-packages\\arcgis\\gis\\__init__.py\u001b[0m in \u001b[0;36mfromitem\u001b[1;34m(cls, item)\u001b[0m\n\u001b[0;32m   9509\u001b[0m         \u001b[1;32mif\u001b[0m \u001b[1;32mnot\u001b[0m \u001b[0mitem\u001b[0m\u001b[1;33m.\u001b[0m\u001b[0mtype\u001b[0m\u001b[1;33m.\u001b[0m\u001b[0mlower\u001b[0m\u001b[1;33m(\u001b[0m\u001b[1;33m)\u001b[0m\u001b[1;33m.\u001b[0m\u001b[0mendswith\u001b[0m\u001b[1;33m(\u001b[0m\u001b[1;34m'service'\u001b[0m\u001b[1;33m)\u001b[0m\u001b[1;33m:\u001b[0m\u001b[1;33m\u001b[0m\u001b[1;33m\u001b[0m\u001b[0m\n\u001b[0;32m   9510\u001b[0m             \u001b[1;32mraise\u001b[0m \u001b[0mTypeError\u001b[0m\u001b[1;33m(\u001b[0m\u001b[1;34m\"item must be a type of service, not \"\u001b[0m \u001b[1;33m+\u001b[0m \u001b[0mitem\u001b[0m\u001b[1;33m.\u001b[0m\u001b[0mtype\u001b[0m\u001b[1;33m)\u001b[0m\u001b[1;33m\u001b[0m\u001b[1;33m\u001b[0m\u001b[0m\n\u001b[1;32m-> 9511\u001b[1;33m         \u001b[1;32mreturn\u001b[0m \u001b[0mcls\u001b[0m\u001b[1;33m(\u001b[0m\u001b[0mitem\u001b[0m\u001b[1;33m.\u001b[0m\u001b[0murl\u001b[0m\u001b[1;33m,\u001b[0m \u001b[0mitem\u001b[0m\u001b[1;33m.\u001b[0m\u001b[0m_gis\u001b[0m\u001b[1;33m)\u001b[0m\u001b[1;33m\u001b[0m\u001b[1;33m\u001b[0m\u001b[0m\n\u001b[0m\u001b[0;32m   9512\u001b[0m \u001b[1;33m\u001b[0m\u001b[0m\n\u001b[0;32m   9513\u001b[0m     \u001b[1;32mdef\u001b[0m \u001b[0m_refresh\u001b[0m\u001b[1;33m(\u001b[0m\u001b[0mself\u001b[0m\u001b[1;33m)\u001b[0m\u001b[1;33m:\u001b[0m\u001b[1;33m\u001b[0m\u001b[1;33m\u001b[0m\u001b[0m\n",
      "\u001b[1;32m~\\AppData\\Local\\ESRI\\conda\\envs\\my_env\\lib\\site-packages\\arcgis\\features\\layer.py\u001b[0m in \u001b[0;36m__init__\u001b[1;34m(self, url, gis)\u001b[0m\n\u001b[0;32m   1528\u001b[0m             \u001b[1;32mpass\u001b[0m\u001b[1;33m\u001b[0m\u001b[1;33m\u001b[0m\u001b[0m\n\u001b[0;32m   1529\u001b[0m \u001b[1;33m\u001b[0m\u001b[0m\n\u001b[1;32m-> 1530\u001b[1;33m         \u001b[0mself\u001b[0m\u001b[1;33m.\u001b[0m\u001b[0m_populate_layers\u001b[0m\u001b[1;33m(\u001b[0m\u001b[1;33m)\u001b[0m\u001b[1;33m\u001b[0m\u001b[1;33m\u001b[0m\u001b[0m\n\u001b[0m\u001b[0;32m   1531\u001b[0m         \u001b[0mself\u001b[0m\u001b[1;33m.\u001b[0m\u001b[0m_admin\u001b[0m \u001b[1;33m=\u001b[0m \u001b[1;32mNone\u001b[0m\u001b[1;33m\u001b[0m\u001b[1;33m\u001b[0m\u001b[0m\n\u001b[0;32m   1532\u001b[0m         \u001b[1;32mtry\u001b[0m\u001b[1;33m:\u001b[0m\u001b[1;33m\u001b[0m\u001b[1;33m\u001b[0m\u001b[0m\n",
      "\u001b[1;32m~\\AppData\\Local\\ESRI\\conda\\envs\\my_env\\lib\\site-packages\\arcgis\\features\\layer.py\u001b[0m in \u001b[0;36m_populate_layers\u001b[1;34m(self)\u001b[0m\n\u001b[0;32m   1542\u001b[0m         \u001b[0mtables\u001b[0m \u001b[1;33m=\u001b[0m \u001b[1;33m[\u001b[0m\u001b[1;33m]\u001b[0m\u001b[1;33m\u001b[0m\u001b[1;33m\u001b[0m\u001b[0m\n\u001b[0;32m   1543\u001b[0m \u001b[1;33m\u001b[0m\u001b[0m\n\u001b[1;32m-> 1544\u001b[1;33m         \u001b[1;32mfor\u001b[0m \u001b[0mlyr\u001b[0m \u001b[1;32min\u001b[0m \u001b[0mself\u001b[0m\u001b[1;33m.\u001b[0m\u001b[0mproperties\u001b[0m\u001b[1;33m.\u001b[0m\u001b[0mlayers\u001b[0m\u001b[1;33m:\u001b[0m\u001b[1;33m\u001b[0m\u001b[1;33m\u001b[0m\u001b[0m\n\u001b[0m\u001b[0;32m   1545\u001b[0m             \u001b[0mlyr\u001b[0m \u001b[1;33m=\u001b[0m \u001b[0mFeatureLayer\u001b[0m\u001b[1;33m(\u001b[0m\u001b[0mself\u001b[0m\u001b[1;33m.\u001b[0m\u001b[0murl\u001b[0m \u001b[1;33m+\u001b[0m \u001b[1;34m'/'\u001b[0m \u001b[1;33m+\u001b[0m \u001b[0mstr\u001b[0m\u001b[1;33m(\u001b[0m\u001b[0mlyr\u001b[0m\u001b[1;33m.\u001b[0m\u001b[0mid\u001b[0m\u001b[1;33m)\u001b[0m\u001b[1;33m,\u001b[0m \u001b[0mself\u001b[0m\u001b[1;33m.\u001b[0m\u001b[0m_gis\u001b[0m\u001b[1;33m,\u001b[0m \u001b[0mself\u001b[0m\u001b[1;33m)\u001b[0m\u001b[1;33m\u001b[0m\u001b[1;33m\u001b[0m\u001b[0m\n\u001b[0;32m   1546\u001b[0m             \u001b[0mlayers\u001b[0m\u001b[1;33m.\u001b[0m\u001b[0mappend\u001b[0m\u001b[1;33m(\u001b[0m\u001b[0mlyr\u001b[0m\u001b[1;33m)\u001b[0m\u001b[1;33m\u001b[0m\u001b[1;33m\u001b[0m\u001b[0m\n",
      "\u001b[1;32m~\\AppData\\Local\\ESRI\\conda\\envs\\my_env\\lib\\site-packages\\arcgis\\_impl\\common\\_mixins.py\u001b[0m in \u001b[0;36m__getattr__\u001b[1;34m(self, key)\u001b[0m\n\u001b[0;32m     79\u001b[0m             raise AttributeError(\n\u001b[0;32m     80\u001b[0m                 \"'{cls}' instance has no attribute '{name}'\".format(\n\u001b[1;32m---> 81\u001b[1;33m                     \u001b[0mcls\u001b[0m\u001b[1;33m=\u001b[0m\u001b[0mself\u001b[0m\u001b[1;33m.\u001b[0m\u001b[0m__class__\u001b[0m\u001b[1;33m.\u001b[0m\u001b[0m__name__\u001b[0m\u001b[1;33m,\u001b[0m \u001b[0mname\u001b[0m\u001b[1;33m=\u001b[0m\u001b[0mkey\u001b[0m\u001b[1;33m\u001b[0m\u001b[1;33m\u001b[0m\u001b[0m\n\u001b[0m\u001b[0;32m     82\u001b[0m                 )\n\u001b[0;32m     83\u001b[0m             )\n",
      "\u001b[1;31mAttributeError\u001b[0m: 'PropertyMap' instance has no attribute 'layers'"
     ]
    }
   ],
   "source": [
    "# this function will clone the item we defined above\n",
    "myClone = gis.content.clone_items([item])\n",
    "\n",
    "# rename the dataset\n",
    "myClone[0].update(item_properties={'title':'Wastewater'})\n",
    "\n",
    "# define the myItem varible that we will use for this Module\n",
    "myItem = myClone[0]"
   ]
  },
  {
   "cell_type": "code",
   "execution_count": null,
   "metadata": {},
   "outputs": [],
   "source": [
    "# rename the dataset\n",
    "myClone[0].update(item_properties={'title':'WCC Sculptures'})\n",
    "\n",
    "# define the myItem varible that we will use for this Module\n",
    "myItem = myClone[0]"
   ]
  },
  {
   "cell_type": "code",
   "execution_count": null,
   "metadata": {},
   "outputs": [],
   "source": [
    "myItem"
   ]
  },
  {
   "cell_type": "code",
   "execution_count": null,
   "metadata": {},
   "outputs": [],
   "source": [
    "myExport = myItem.export('WCC_Sculptures1','File Geodatabase')"
   ]
  },
  {
   "cell_type": "code",
   "execution_count": null,
   "metadata": {},
   "outputs": [],
   "source": [
    "myExport"
   ]
  },
  {
   "cell_type": "code",
   "execution_count": null,
   "metadata": {},
   "outputs": [],
   "source": [
    "myDownload = myExport.download(r'C:\\Users\\rjc.EAGLE\\Desktop\\test','Test_Download.zip')"
   ]
  },
  {
   "cell_type": "code",
   "execution_count": null,
   "metadata": {},
   "outputs": [],
   "source": []
  }
 ],
 "metadata": {
  "kernelspec": {
   "display_name": "Python 3",
   "language": "python",
   "name": "python3"
  },
  "language_info": {
   "codemirror_mode": {
    "name": "ipython",
    "version": 3
   },
   "file_extension": ".py",
   "mimetype": "text/x-python",
   "name": "python",
   "nbconvert_exporter": "python",
   "pygments_lexer": "ipython3",
   "version": "3.6.8"
  }
 },
 "nbformat": 4,
 "nbformat_minor": 2
}
